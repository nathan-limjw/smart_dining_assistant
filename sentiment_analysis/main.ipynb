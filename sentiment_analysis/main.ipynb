{
 "cells": [
  {
   "cell_type": "code",
   "execution_count": null,
   "id": "e5524800",
   "metadata": {},
   "outputs": [],
   "source": [
    "!git clone https://github.com/nathan-limjw/smart_dining_assistant.git\n",
    "\n",
    "%cd smart_dining_assistant/sentiment_analysis\n",
    "\n",
    "\n",
    "import os\n",
    "from src import load_data, run_hyperparameter_tuning\n",
    "\n"
   ]
  },
  {
   "cell_type": "code",
   "execution_count": null,
   "id": "be2dd878",
   "metadata": {},
   "outputs": [],
   "source": [
    "os.makedirs(\"data\", exist_ok= True)\n",
    "os.makedirs(\"results/metrics\", exist_ok = True)\n",
    "\n",
    "train, val, test = load_data()\n",
    "\n",
    "run_hyperparameter_tuning()"
   ]
  }
 ],
 "metadata": {
  "kernelspec": {
   "display_name": "sentiment_venv",
   "language": "python",
   "name": "python3"
  },
  "language_info": {
   "codemirror_mode": {
    "name": "ipython",
    "version": 3
   },
   "file_extension": ".py",
   "mimetype": "text/x-python",
   "name": "python",
   "nbconvert_exporter": "python",
   "pygments_lexer": "ipython3",
   "version": "3.13.6"
  }
 },
 "nbformat": 4,
 "nbformat_minor": 5
}
